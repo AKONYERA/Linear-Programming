{
 "cells": [
  {
   "cell_type": "markdown",
   "id": "6ff35358",
   "metadata": {},
   "source": [
    "Manufacturing Optimization Problem"
   ]
  },
  {
   "cell_type": "code",
   "execution_count": 3,
   "id": "3a89bc3b",
   "metadata": {},
   "outputs": [
    {
     "name": "stdout",
     "output_type": "stream",
     "text": [
      "Optimal Solution:\n",
      "Quantity of Product A (x1): 211.53846\n",
      "Quantity of Product B (x2): 153.84615\n",
      "Maximum Profit (Z): 1673.0769\n"
     ]
    }
   ],
   "source": [
    "#Importing necessary libraries\n",
    "from pulp import LpProblem, LpMaximize, LpVariable\n",
    "\n",
    "# Create a linear programming problem\n",
    "model = LpProblem(name=\"Product_Mix_Optimization\", sense=LpMaximize)\n",
    "\n",
    "# Define decision variables\n",
    "x1 = LpVariable(name=\"x1\", lowBound=0)  # Quantity of product A\n",
    "x2 = LpVariable(name=\"x2\", lowBound=0)  # Quantity of product B\n",
    "\n",
    "# Define the objective function\n",
    "model += 5 * x1 + 4 * x2, \"Objective\"\n",
    "\n",
    "# Define constraints\n",
    "model += 4 * x1 + x2 <= 1000, \"Raw_Material_Constraint\"\n",
    "model += 1 * x1 + 8 * x2 <= 2400, \"Labor_Constraint\"\n",
    "model += 2 * x1 + 7 * x2 <= 1500, \"Machine_Constraint\"\n",
    "\n",
    "# Solve the linear programming problem\n",
    "model.solve()\n",
    "\n",
    "# Display the results\n",
    "print(\"Optimal Solution:\")\n",
    "print(f\"Quantity of Product A (x1): {x1.varValue}\")\n",
    "print(f\"Quantity of Product B (x2): {x2.varValue}\")\n",
    "print(f\"Maximum Profit (Z): {model.objective.value()}\")\n"
   ]
  },
  {
   "cell_type": "markdown",
   "id": "5e35c974",
   "metadata": {},
   "source": [
    "Warehouse Optimization Problem"
   ]
  },
  {
   "cell_type": "code",
   "execution_count": 2,
   "id": "7947f2de",
   "metadata": {},
   "outputs": [
    {
     "name": "stdout",
     "output_type": "stream",
     "text": [
      "Optimal Solution:\n",
      "Quantity of Product X (x): 0.0\n",
      "Quantity of Product Y (y): 64.285714\n",
      "Quantity of Product Z (z): 7.1428571\n",
      "Maximum Total Revenue (Z): 1021.4285668\n"
     ]
    }
   ],
   "source": [
    "from pulp import LpProblem, LpMaximize, LpVariable\n",
    "\n",
    "# Create a linear programming problem\n",
    "model = LpProblem(name=\"Warehouse_Optimization\", sense=LpMaximize)\n",
    "\n",
    "# Define decision variables\n",
    "x = LpVariable(name=\"x\", lowBound=0)  # Quantity of product X\n",
    "y = LpVariable(name=\"y\", lowBound=0)  # Quantity of product Y\n",
    "z = LpVariable(name=\"z\", lowBound=0)  # Quantity of product Z\n",
    "\n",
    "# Define the objective function\n",
    "model += 10 * x + 15 * y + 8 * z, \"Objective\"\n",
    "\n",
    "# Define constraints\n",
    "model += 2 * x + 3 * y + 1 * z <= 200, \"Storage_Space_Constraint\"\n",
    "model += 4 * x + 2 * y + 3 * z <= 150, \"Labor_Constraint\"\n",
    "model += x <= 50, \"Product_X_Availability\"\n",
    "\n",
    "# Solve the linear programming problem\n",
    "model.solve()\n",
    "\n",
    "# Display the results\n",
    "print(\"Optimal Solution:\")\n",
    "print(f\"Quantity of Product X (x): {x.varValue}\")\n",
    "print(f\"Quantity of Product Y (y): {y.varValue}\")\n",
    "print(f\"Quantity of Product Z (z): {z.varValue}\")\n",
    "print(f\"Maximum Total Revenue (Z): {model.objective.value()}\")\n"
   ]
  },
  {
   "cell_type": "markdown",
   "id": "8027aec8",
   "metadata": {},
   "source": [
    "A company Production Problem"
   ]
  },
  {
   "cell_type": "code",
   "execution_count": 3,
   "id": "6915fa9d",
   "metadata": {},
   "outputs": [
    {
     "name": "stdout",
     "output_type": "stream",
     "text": [
      "Optimal Solution:\n",
      "Quantity of Product P1 (x1): 100.0\n",
      "Quantity of Product P2 (x2): 0.0\n",
      "Maximum Profit (Z): 500.0\n"
     ]
    }
   ],
   "source": [
    "from pulp import LpProblem, LpMaximize, LpVariable\n",
    "\n",
    "# Create a linear programming problem\n",
    "model = LpProblem(name=\"Production_Planning\", sense=LpMaximize)\n",
    "\n",
    "# Define decision variables\n",
    "x1 = LpVariable(name=\"x1\", lowBound=0)  # Quantity of product P1\n",
    "x2 = LpVariable(name=\"x2\", lowBound=0)  # Quantity of product P2\n",
    "\n",
    "# Define the objective function\n",
    "model += 5 * x1 + 3 * x2, \"Objective\"\n",
    "\n",
    "# Define constraints\n",
    "model += 2 * x1 + 4 * x2 <= 800, \"Raw_Material_Constraint\"\n",
    "model += 3 * x1 + 2 * x2 <= 200, \"Labor_Constraint\"\n",
    "model += x1 >= 100, \"Demand_Constraint\"\n",
    "\n",
    "# Solve the linear programming problem\n",
    "model.solve()\n",
    "\n",
    "# Display the results\n",
    "print(\"Optimal Solution:\")\n",
    "print(f\"Quantity of Product P1 (x1): {x1.varValue}\")\n",
    "print(f\"Quantity of Product P2 (x2): {x2.varValue}\")\n",
    "print(f\"Maximum Profit (Z): {model.objective.value()}\")\n"
   ]
  },
  {
   "cell_type": "code",
   "execution_count": null,
   "id": "3f77193b",
   "metadata": {},
   "outputs": [],
   "source": []
  }
 ],
 "metadata": {
  "kernelspec": {
   "display_name": "Python 3 (ipykernel)",
   "language": "python",
   "name": "python3"
  },
  "language_info": {
   "codemirror_mode": {
    "name": "ipython",
    "version": 3
   },
   "file_extension": ".py",
   "mimetype": "text/x-python",
   "name": "python",
   "nbconvert_exporter": "python",
   "pygments_lexer": "ipython3",
   "version": "3.9.12"
  }
 },
 "nbformat": 4,
 "nbformat_minor": 5
}
